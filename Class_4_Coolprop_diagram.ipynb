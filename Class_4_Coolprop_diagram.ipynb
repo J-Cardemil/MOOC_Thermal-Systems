{
  "cells": [
    {
      "attachments": {},
      "cell_type": "markdown",
      "metadata": {
        "id": "_198vLQbUkPb"
      },
      "source": [
        "## **Análisis de Sistemas Térmicos usando Python**\n",
        "\n",
        "Clase 4: Uso de coolprop para construir diagamas termodinámicos"
      ]
    },
    {
      "cell_type": "code",
      "execution_count": null,
      "metadata": {
        "colab": {
          "base_uri": "https://localhost:8080/"
        },
        "id": "vwYjfJB5T4io",
        "outputId": "d6e9d22c-c2d1-48f7-a955-10511de2801a"
      },
      "outputs": [],
      "source": [
        "#pip install Coolprop\n",
        "#pip install beautifultable"
      ]
    },
    {
      "cell_type": "code",
      "execution_count": 1,
      "metadata": {
        "id": "eeXmOPI6HMUZ"
      },
      "outputs": [],
      "source": [
        "import CoolProp.CoolProp as cp\n",
        "import numpy as np\n",
        "import matplotlib.pyplot as plt"
      ]
    },
    {
      "attachments": {},
      "cell_type": "markdown",
      "metadata": {
        "id": "xIyYRyRgHnzA"
      },
      "source": [
        "Para este ejemplo nuevamente consideramos **Agua** como substancia de trabajo.\n",
        "\n",
        "Definiremos como Temperatura de referencia 298 K y Presión de referenica 1 atmósfera: 101,325 kPa"
      ]
    },
    {
      "cell_type": "code",
      "execution_count": 2,
      "metadata": {
        "id": "Jys1XrSZHTCY"
      },
      "outputs": [],
      "source": [
        "fluid = \"water\"\n",
        "ref_temp = 298 # K\n",
        "ref_press = 101325 # Pa - 1 atm"
      ]
    },
    {
      "attachments": {},
      "cell_type": "markdown",
      "metadata": {
        "id": "woH_sdV1IGqy"
      },
      "source": [
        "En este ejemplo, analizaremos el proceso de vaporización de agua a 1 atm\n",
        "\n",
        "Evaluaremos el estado inicial a condiciones ambientales (0), seguido por una adicion de calor hasta el estado de líquido saturado (1), luego evaluaremos el estado de vapor saturado (2) y finalmente evaluaremos el estado de vapor sobrecalentado a 200°C, donde todos los estados anteriores se mantienen a 1 atm."
      ]
    },
    {
      "cell_type": "code",
      "execution_count": 3,
      "metadata": {
        "id": "SLvBD6y3UWem"
      },
      "outputs": [],
      "source": [
        "T,P,h,D = [np.empty(4)]*4\n",
        "Estado = []"
      ]
    },
    {
      "attachments": {},
      "cell_type": "markdown",
      "metadata": {
        "id": "bdzlS6eoUWem"
      },
      "source": [
        "Estado 0 : Agua líquida en la condición de referencia.\n",
        "\n",
        "* Datos conocidos: Presión y temperatura\n",
        "* Determinamos: Densidad y entalpía"
      ]
    },
    {
      "cell_type": "code",
      "execution_count": 8,
      "metadata": {
        "id": "U95VyTMVUWem"
      },
      "outputs": [],
      "source": [
        "Estado.append('Ambiente')\n",
        "T[0] = ref_temp\n",
        "P[0] = ref_press\n",
        "\n",
        "h[0] = cp.PropsSI('H', 'T', T[0], 'P', P[0], fluid)\n",
        "D[0] = cp.PropsSI('D', 'T', T[0], 'P', P[0], fluid)"
      ]
    },
    {
      "attachments": {},
      "cell_type": "markdown",
      "metadata": {
        "id": "Ksiva5djUWen"
      },
      "source": [
        "Estado 1 - Líquido Saturado a la presión de referencia:\n",
        "\n",
        "* Datos conocidos: Presión y Estado de líquido saturado (calidad de vapor igual a 0)\n",
        "* Determinamos: Temperatura, Densidad y entalpía"
      ]
    },
    {
      "cell_type": "code",
      "execution_count": 5,
      "metadata": {
        "id": "7cdxQOi9H_7Z"
      },
      "outputs": [
        {
          "ename": "ValueError",
          "evalue": "Pressure to PQ_flash [373.124 Pa] must be in range [ 611.655 Pa, 2.2064e+07 Pa] : PropsSI(\"H\",\"Q\",0,\"P\",373.1242958,\"water\")",
          "output_type": "error",
          "traceback": [
            "\u001b[1;31m---------------------------------------------------------------------------\u001b[0m",
            "\u001b[1;31mValueError\u001b[0m                                Traceback (most recent call last)",
            "Cell \u001b[1;32mIn[5], line 5\u001b[0m\n\u001b[0;32m      2\u001b[0m P[\u001b[39m1\u001b[39m] \u001b[39m=\u001b[39m ref_press\n\u001b[0;32m      3\u001b[0m T[\u001b[39m1\u001b[39m] \u001b[39m=\u001b[39m cp\u001b[39m.\u001b[39mPropsSI(\u001b[39m'\u001b[39m\u001b[39mT\u001b[39m\u001b[39m'\u001b[39m, \u001b[39m'\u001b[39m\u001b[39mQ\u001b[39m\u001b[39m'\u001b[39m, \u001b[39m0\u001b[39m, \u001b[39m'\u001b[39m\u001b[39mP\u001b[39m\u001b[39m'\u001b[39m, P[\u001b[39m1\u001b[39m], fluid)\n\u001b[1;32m----> 5\u001b[0m h[\u001b[39m1\u001b[39m] \u001b[39m=\u001b[39m cp\u001b[39m.\u001b[39;49mPropsSI(\u001b[39m'\u001b[39;49m\u001b[39mH\u001b[39;49m\u001b[39m'\u001b[39;49m, \u001b[39m'\u001b[39;49m\u001b[39mQ\u001b[39;49m\u001b[39m'\u001b[39;49m, \u001b[39m0\u001b[39;49m, \u001b[39m'\u001b[39;49m\u001b[39mP\u001b[39;49m\u001b[39m'\u001b[39;49m, P[\u001b[39m1\u001b[39;49m], fluid)\n\u001b[0;32m      6\u001b[0m D[\u001b[39m1\u001b[39m] \u001b[39m=\u001b[39m cp\u001b[39m.\u001b[39mPropsSI(\u001b[39m'\u001b[39m\u001b[39mD\u001b[39m\u001b[39m'\u001b[39m, \u001b[39m'\u001b[39m\u001b[39mQ\u001b[39m\u001b[39m'\u001b[39m, \u001b[39m0\u001b[39m, \u001b[39m'\u001b[39m\u001b[39mP\u001b[39m\u001b[39m'\u001b[39m, P[\u001b[39m1\u001b[39m], fluid)\n",
            "File \u001b[1;32mCoolProp\\CoolProp.pyx:377\u001b[0m, in \u001b[0;36mCoolProp.CoolProp.PropsSI\u001b[1;34m()\u001b[0m\n",
            "File \u001b[1;32mCoolProp\\CoolProp.pyx:457\u001b[0m, in \u001b[0;36mCoolProp.CoolProp.PropsSI\u001b[1;34m()\u001b[0m\n",
            "File \u001b[1;32mCoolProp\\CoolProp.pyx:344\u001b[0m, in \u001b[0;36mCoolProp.CoolProp.__Props_err2\u001b[1;34m()\u001b[0m\n",
            "\u001b[1;31mValueError\u001b[0m: Pressure to PQ_flash [373.124 Pa] must be in range [ 611.655 Pa, 2.2064e+07 Pa] : PropsSI(\"H\",\"Q\",0,\"P\",373.1242958,\"water\")"
          ]
        }
      ],
      "source": [
        "Estado.append('L. Saturado')\n",
        "P[1] = ref_press\n",
        "T[1] = cp.PropsSI('T', 'Q', 0, 'P', P[1], fluid)\n",
        "\n",
        "h[1] = cp.PropsSI('H', 'Q', 0, 'P', P[1], fluid)\n",
        "D[1] = cp.PropsSI('D', 'Q', 0, 'P', P[1], fluid)"
      ]
    },
    {
      "attachments": {},
      "cell_type": "markdown",
      "metadata": {
        "id": "DVLO6IAlIWGt"
      },
      "source": [
        "Estado 2 -  Vapor Saturado a la presión de referencia\n",
        "\n",
        "* Datos conocidos: Presión y Estado de vapor saturado (calidad de vapor igual a 1)\n",
        "* Determinamos: Temperatura, Densidad y entalpía"
      ]
    },
    {
      "cell_type": "code",
      "execution_count": 10,
      "metadata": {
        "id": "nMMSH34CIe-q"
      },
      "outputs": [
        {
          "ename": "ValueError",
          "evalue": "Pressure to PQ_flash [373.124 Pa] must be in range [ 611.655 Pa, 2.2064e+07 Pa] : PropsSI(\"H\",\"Q\",1,\"P\",373.1242958,\"water\")",
          "output_type": "error",
          "traceback": [
            "\u001b[1;31m---------------------------------------------------------------------------\u001b[0m",
            "\u001b[1;31mValueError\u001b[0m                                Traceback (most recent call last)",
            "Cell \u001b[1;32mIn[10], line 5\u001b[0m\n\u001b[0;32m      2\u001b[0m P[\u001b[39m2\u001b[39m] \u001b[39m=\u001b[39m ref_press\n\u001b[0;32m      3\u001b[0m T[\u001b[39m2\u001b[39m] \u001b[39m=\u001b[39m cp\u001b[39m.\u001b[39mPropsSI(\u001b[39m'\u001b[39m\u001b[39mT\u001b[39m\u001b[39m'\u001b[39m, \u001b[39m'\u001b[39m\u001b[39mQ\u001b[39m\u001b[39m'\u001b[39m, \u001b[39m1\u001b[39m, \u001b[39m'\u001b[39m\u001b[39mP\u001b[39m\u001b[39m'\u001b[39m, P[\u001b[39m2\u001b[39m], fluid)\n\u001b[1;32m----> 5\u001b[0m h[\u001b[39m2\u001b[39m] \u001b[39m=\u001b[39m cp\u001b[39m.\u001b[39;49mPropsSI(\u001b[39m'\u001b[39;49m\u001b[39mH\u001b[39;49m\u001b[39m'\u001b[39;49m, \u001b[39m'\u001b[39;49m\u001b[39mQ\u001b[39;49m\u001b[39m'\u001b[39;49m, \u001b[39m1\u001b[39;49m, \u001b[39m'\u001b[39;49m\u001b[39mP\u001b[39;49m\u001b[39m'\u001b[39;49m, P[\u001b[39m2\u001b[39;49m], fluid)\n\u001b[0;32m      6\u001b[0m D[\u001b[39m2\u001b[39m] \u001b[39m=\u001b[39m cp\u001b[39m.\u001b[39mPropsSI(\u001b[39m'\u001b[39m\u001b[39mD\u001b[39m\u001b[39m'\u001b[39m, \u001b[39m'\u001b[39m\u001b[39mQ\u001b[39m\u001b[39m'\u001b[39m, \u001b[39m1\u001b[39m, \u001b[39m'\u001b[39m\u001b[39mP\u001b[39m\u001b[39m'\u001b[39m, P[\u001b[39m2\u001b[39m], fluid)\n",
            "File \u001b[1;32mCoolProp\\CoolProp.pyx:377\u001b[0m, in \u001b[0;36mCoolProp.CoolProp.PropsSI\u001b[1;34m()\u001b[0m\n",
            "File \u001b[1;32mCoolProp\\CoolProp.pyx:457\u001b[0m, in \u001b[0;36mCoolProp.CoolProp.PropsSI\u001b[1;34m()\u001b[0m\n",
            "File \u001b[1;32mCoolProp\\CoolProp.pyx:344\u001b[0m, in \u001b[0;36mCoolProp.CoolProp.__Props_err2\u001b[1;34m()\u001b[0m\n",
            "\u001b[1;31mValueError\u001b[0m: Pressure to PQ_flash [373.124 Pa] must be in range [ 611.655 Pa, 2.2064e+07 Pa] : PropsSI(\"H\",\"Q\",1,\"P\",373.1242958,\"water\")"
          ]
        }
      ],
      "source": [
        "Estado.append('V. Saturado')\n",
        "P[2] = ref_press\n",
        "T[2] = cp.PropsSI('T', 'Q', 1, 'P', P[2], fluid)\n",
        "\n",
        "h[2] = cp.PropsSI('H', 'Q', 1, 'P', P[2], fluid)\n",
        "D[2] = cp.PropsSI('D', 'Q', 1, 'P', P[2], fluid)"
      ]
    },
    {
      "attachments": {},
      "cell_type": "markdown",
      "metadata": {
        "id": "NVrC1E80kglq"
      },
      "source": [
        "Estado 3 - Vapor Sobrecalentado a 200°C y a la presión de referencia\n",
        "\n",
        "* Datos conocidos: Presión y temperatura\n",
        "* Determinamos: Densidad y entalpía"
      ]
    },
    {
      "cell_type": "code",
      "execution_count": null,
      "metadata": {
        "id": "kh-Gl4jxUWeq"
      },
      "outputs": [],
      "source": [
        "Estado.append('Sobrecalentado')\n",
        "T[3] = 200 + 273.15 # K\n",
        "P[3] = ref_press\n",
        "\n",
        "h[3] = cp.PropsSI('H', 'T', T[3], 'P', P[3], fluid)\n",
        "D[3] = cp.PropsSI('D', 'T', T[3], 'P', P[3], fluid)"
      ]
    },
    {
      "attachments": {},
      "cell_type": "markdown",
      "metadata": {
        "id": "6VpxEn_wUWer"
      },
      "source": [
        "Crearemos una Tabla de resumen de los estados termodinámicos"
      ]
    },
    {
      "cell_type": "code",
      "execution_count": null,
      "metadata": {
        "id": "jyUo9d2oUWes"
      },
      "outputs": [],
      "source": [
        "from beautifultable import BeautifulTable as bt"
      ]
    },
    {
      "cell_type": "code",
      "execution_count": null,
      "metadata": {
        "colab": {
          "base_uri": "https://localhost:8080/"
        },
        "id": "W5xy7u10UWes",
        "outputId": "f78c63ec-1760-45dd-cc1e-92c99390d06a"
      },
      "outputs": [],
      "source": [
        "print('Estados termodinámicos - Sistema: ' + fluid)\n",
        "table = bt()\n",
        "table = bt(maxwidth=100)\n",
        "table.columns.append(T, header=\"Temperatura\\n[C]\")\n",
        "table.columns.append(P/1000, header=\"Presión\\n[kPa]\")\n",
        "table.columns.append(h/1000, header=\"Entalpía\\n[kJ/kg]\")\n",
        "table.columns.append(D, header=\"Densidad \\n[kg/m3]\")\n",
        "table.rows.header = Estado\n",
        "print(table)"
      ]
    },
    {
      "attachments": {},
      "cell_type": "markdown",
      "metadata": {},
      "source": [
        "Para crear una visualización grafica, debemos crear vectores adicionales para mostrar los tramos intemedios entre cada estado."
      ]
    },
    {
      "cell_type": "code",
      "execution_count": null,
      "metadata": {
        "id": "k8yKmVT3iJ2b"
      },
      "outputs": [],
      "source": [
        "# Datos para variación T-D entre estados\n",
        "n = 100 # Cantidad de puntos\n",
        "\n",
        "# De estado ambiente a líquido saturado\n",
        "T1 = np.linspace(T[0],T[1],n)\n",
        "D1 = cp.PropsSI('D', 'T', T1, 'P', ref_press, fluid)\n",
        "\n",
        "# De líquido saturado a vapor saturado\n",
        "Q2 = np.linspace(0,1,n) # Calidad de 0 a 1\n",
        "T2 = cp.PropsSI('T', 'Q', Q2, 'P', ref_press, fluid)\n",
        "D2 = cp.PropsSI('D', 'Q', Q2, 'P', ref_press, fluid)\n",
        "\n",
        "# De vapor saturado a vapor sobrecalentado\n",
        "T3 = np.linspace(T[2],T[3],n)\n",
        "D3 = cp.PropsSI('D', 'T', T3, 'P', ref_press, fluid)"
      ]
    },
    {
      "attachments": {},
      "cell_type": "markdown",
      "metadata": {},
      "source": [
        "Luego para crear el diagrama usamos la función PropertyPlot de la biblioteca **\"CoolProp\"**"
      ]
    },
    {
      "cell_type": "code",
      "execution_count": null,
      "metadata": {
        "colab": {
          "base_uri": "https://localhost:8080/",
          "height": 580
        },
        "id": "RhvOyvQFUWet",
        "outputId": "0f2ac94f-3f48-4ad1-94db-07f0bfb4a873"
      },
      "outputs": [],
      "source": [
        "from CoolProp.Plots import PropertyPlot\n",
        "\n",
        "# Creamos el Diagrama T-D\n",
        "td_plot = PropertyPlot('Water', 'TD', tp_limits='ORC', unit_system='KSI')\n",
        "td_plot.calc_isolines(cp.iQ, num=6)\n",
        "\n",
        "# Anotaciones de los estados\n",
        "ax = plt.gca() # Axis del PropertyPlot\n",
        "ax.scatter(D,T,c='r',s=10,zorder=3,marker='D') # Puntos con los estado termodinámicos\n",
        "e_v = 1.02 # Espaciamiento vertical\n",
        "e_h = 1 # Espaciamiento horizontal\n",
        "\n",
        "#Introducimos los estados calculados previamente\n",
        "for i, txt in enumerate(Estado):\n",
        "    plt.annotate(txt, (D[i]*e_h, T[i]*e_v))\n",
        "\n",
        "# Colocamos lel vector de variación T-D entre estados\n",
        "ax.plot(D1,T1,c='b')\n",
        "ax.plot(D2,T2,c='b')\n",
        "ax.plot(D3,T3,c='b')\n",
        "\n",
        "#Finalmente organizamos el grafico estéticamente\n",
        "ax.set_xlim(1e-1,5e3) # Modificar los límites 'ORC' en x\n",
        "td_plot.title(r' Diagrama $T,\\rho$ para el agua')\n",
        "td_plot.xlabel(r'$\\rho$ [kg/$m^3$]')\n",
        "td_plot.ylabel(r'$T$ [K]')\n",
        "td_plot.grid()\n",
        "td_plot.show()"
      ]
    }
  ],
  "metadata": {
    "colab": {
      "provenance": []
    },
    "kernelspec": {
      "display_name": "Python 3.9.12 ('Thermodynamics')",
      "language": "python",
      "name": "python3"
    },
    "language_info": {
      "codemirror_mode": {
        "name": "ipython",
        "version": 3
      },
      "file_extension": ".py",
      "mimetype": "text/x-python",
      "name": "python",
      "nbconvert_exporter": "python",
      "pygments_lexer": "ipython3",
      "version": "3.9.16"
    },
    "vscode": {
      "interpreter": {
        "hash": "e3e00a7bd6eae02d2ccac1eb55407bbbd95142f269ed3bd1034733c2cfa4f866"
      }
    }
  },
  "nbformat": 4,
  "nbformat_minor": 0
}

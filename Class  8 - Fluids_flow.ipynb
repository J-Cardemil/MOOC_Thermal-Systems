{
 "cells": [
  {
   "cell_type": "markdown",
   "metadata": {},
   "source": [
    "La figura muestra un esquema de un sistema de dos estanques de agua conectados por dos cañerías con una bifurcación y una unión. \n",
    "\n",
    "Determine el caudal de estanque a estanque, cuando la válvula en la sección 2 está completamente cerrada.\n",
    "\n",
    "\n",
    "![Ejemplo 3](M1_E3.png)\n",
    "\n",
    "Datos:\n",
    "* Cañerías de acero comercial\n",
    "* L2 = 90 m\n",
    "* L3 = 150 m\n",
    "* 2 codos de 45º\n",
    "* válvulas de bola completamente abiertas\n",
    "* 1 codo de 90° en cada tramo (2 y 3)\n",
    "* Uniones en T son despreciadas para el cálculo de pérdidas de carga.\n",
    "\n",
    "\n"
   ]
  },
  {
   "cell_type": "code",
   "execution_count": 1,
   "metadata": {},
   "outputs": [],
   "source": [
    "import CoolProp.CoolProp as cp\n",
    "import fluids as fld\n",
    "import numpy as np\n",
    "from scipy import constants\n",
    "from fluids.units import *\n",
    "from scipy import optimize as op"
   ]
  },
  {
   "cell_type": "code",
   "execution_count": 6,
   "metadata": {},
   "outputs": [],
   "source": [
    "D_1 = 4 * constants.inch * u.m #Pulgadas a metros\n",
    "D_2 = 3 * constants.inch * u.m  #Pulgadas a metros\n",
    "D_3 = 4 * constants.inch * u.m  #Pulgadas a metros\n",
    "D_4 = 4 * constants.inch * u.m  #Pulgadas a metros\n",
    "\n",
    "L_1 = 3 * u.m   #metros\n",
    "L_2 = 90 * u.m  #metros\n",
    "L_3 = 150 * u.m #metros\n",
    "L_4 = 3 * u.m \n",
    "\n",
    "z = 1 * u.m     #metros\n",
    "\n",
    "material = 'Steel'\n",
    "epsilon = fld.material_roughness(material)*u.m\n",
    "\n",
    "fluid = \"water\"\n",
    "T_o = 300 *u.K #Kelvin\n",
    "rho = cp.PropsSI('D','T', T_o.magnitude, 'P',101325,fluid)*u.kg/u.m**3\n",
    "mu = cp.PropsSI('V','T', T_o.magnitude, 'P',101325,fluid)*u.Pa*u.s"
   ]
  },
  {
   "attachments": {},
   "cell_type": "markdown",
   "metadata": {},
   "source": [
    "Si la válvula en la cañería 2 está cerrada, no hay flujo en 2\n",
    "\n",
    "$v_2 = 0\\\\$\n",
    "$\\dot{V}_2 = 0$\n",
    "\n",
    "La ecuación de Bernouilli se puede hacer por cada uno de los tramos: 1, 2, 3 y 4. Luego pueden sumarse entre sí. \n",
    "Haciendo Bernoulli por 1, 3 y 4, queda:\n",
    "\n",
    " $\\rho g z_{AB}=\\left( {\\frac{1}{2}\\rho V_{1}^{2}\\left( {\\frac{f_1 L_1}{D_1}+K_1} \\right)} \\right)+\\frac{1}{2}\\rho V_{3}^{2}\\left( {\\frac{f_3 L_3}{D_3}+K_3} \\right) + \\left( {\\frac{1}{2}\\rho V_{4}^{2}\\left( {\\frac{f_4 L_4}{D_4}+K_4} \\right)} \\right)$\n",
    "\n",
    " Como no hay flujo en 2 y como $D_1=D_3=D_4$, entonces $V_1 =V_3 =V_4$.\n",
    " Luego\n",
    "\n",
    "  $\\rho g z_{AB}= \\frac{1}{2}\\rho V_{1}^{2}\\left(f_1 \\frac{(L_1 + L_3 + L_4) }{D_1}+ \\sum_i{K_i} \\right)$"
   ]
  },
  {
   "cell_type": "code",
   "execution_count": 7,
   "metadata": {},
   "outputs": [],
   "source": [
    "g = constants.g * u.m / u.s**2\n",
    "\n",
    "K_elbow_90 = fld.fittings.bend_rounded_Crane(Di=D_1.magnitude, bend_diameters=1, angle=90)*u.dimensionless\n",
    "K_globe = fld.fittings.K_gate_valve_Crane(D_1.magnitude, D_1.magnitude, 0)*u.dimensionless\n",
    "K_exit = fld.exit_normal()*u.dimensionless\n",
    "K_entrance = fld.entrance_sharp()*u.dimensionless\n",
    "\n",
    "DP_g = rho * g * z"
   ]
  },
  {
   "cell_type": "code",
   "execution_count": 9,
   "metadata": {},
   "outputs": [],
   "source": [
    "def flow_134_o(V_dot_aux):\n",
    "    V_dot = V_dot_aux * u.m**3/u.s\n",
    "    K_a = fld.K_branch_diverging_Crane(D_1, D_1, 0*u.m**3/u.s, V_dot, angle=90*u.degree)\n",
    "    K_b = fld.K_run_converging_Crane(D_1, D_2,V_dot, 0*u.m**3/u.s, angle=90*u.degree)\n",
    "    DP_f = fld.one_phase_dP(V_dot*rho, rho, mu, D_1 ,epsilon, L_1 + L_3 + L_4)\n",
    "    DP_s = (K_elbow_90 + K_globe +K_exit + K_entrance + K_a + K_b ) * ((V_dot*4)/(np.pi*D_1**2))**2  * 0.5 *rho\n",
    "    return (abs(DP_f + DP_s - DP_g).magnitude)"
   ]
  },
  {
   "cell_type": "code",
   "execution_count": 10,
   "metadata": {},
   "outputs": [
    {
     "data": {
      "text/html": [
       "6.553931975996452 liter/second"
      ],
      "text/latex": [
       "$6.553931975996452\\ \\frac{\\mathrm{liter}}{\\mathrm{second}}$"
      ],
      "text/plain": [
       "6.553931975996452 <Unit('liter / second')>"
      ]
     },
     "execution_count": 10,
     "metadata": {},
     "output_type": "execute_result"
    }
   ],
   "source": [
    "V_dot_aux = 10/1000\n",
    "V_dot_134_o = op.newton(flow_134_o,V_dot_aux)\n",
    "V_dot_opt = V_dot_134_o*u.m**3/u.s\n",
    "V_dot_opt.to(u.L/u.s)"
   ]
  }
 ],
 "metadata": {
  "kernelspec": {
   "display_name": "Python 3.9.12 ('Thermodynamics')",
   "language": "python",
   "name": "python3"
  },
  "language_info": {
   "codemirror_mode": {
    "name": "ipython",
    "version": 3
   },
   "file_extension": ".py",
   "mimetype": "text/x-python",
   "name": "python",
   "nbconvert_exporter": "python",
   "pygments_lexer": "ipython3",
   "version": "3.9.16"
  },
  "orig_nbformat": 4,
  "vscode": {
   "interpreter": {
    "hash": "e3e00a7bd6eae02d2ccac1eb55407bbbd95142f269ed3bd1034733c2cfa4f866"
   }
  }
 },
 "nbformat": 4,
 "nbformat_minor": 2
}

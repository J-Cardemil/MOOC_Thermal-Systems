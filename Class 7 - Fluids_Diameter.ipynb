{
 "cells": [
  {
   "cell_type": "markdown",
   "metadata": {},
   "source": [
    "Un propietario de una casa rural está buscando formas de regar un pequeño huerto familiar. \n",
    "\n",
    "Una posibilidad que se está considerando es utilizar el agua de un pequeño arroyo que está a 38 mts de distancia del jardín y 8 mts más abajo que el jardín. \n",
    "\n",
    "Determine las especificaciones para un sistema de bombas y tuberías que suministre agua de riego al jardín a un caudal de 20 litros por minuto."
   ]
  },
  {
   "cell_type": "code",
   "execution_count": 1,
   "metadata": {},
   "outputs": [],
   "source": [
    "import CoolProp.CoolProp as cp\n",
    "import fluids as fld\n",
    "import numpy as np\n",
    "from scipy.constants import g"
   ]
  },
  {
   "cell_type": "markdown",
   "metadata": {},
   "source": [
    "Datos"
   ]
  },
  {
   "cell_type": "code",
   "execution_count": 2,
   "metadata": {},
   "outputs": [],
   "source": [
    "z = 8  #mts\n",
    "\n",
    "L = 38 #mts\n",
    "\n",
    "V_dot_lm = 20 # lts/min\n",
    "V_dot = V_dot_lm/(1000 * 60) # lts/min"
   ]
  },
  {
   "cell_type": "markdown",
   "metadata": {},
   "source": [
    "Para suministrar el agua de riego al jardín, la bomba debe suministrar suficiente presión para superar (1) la diferencia de altitud y (2) los efectos de fricción en la red de tuberías de la red,\n",
    "\n",
    "$\\Delta P_{\\text {pump}}=\\Delta P_{\\text{elevation}}+\\Delta P_{\\text{friction}}$\n"
   ]
  },
  {
   "cell_type": "markdown",
   "metadata": {},
   "source": [
    "El aumento de presión necesario para superar la diferencia de altitud es\n",
    "\n",
    "$ \\Delta P_{\\text{elevation}}= \\rho g z $\n",
    "\n"
   ]
  },
  {
   "cell_type": "code",
   "execution_count": 3,
   "metadata": {},
   "outputs": [],
   "source": [
    "fluid = 'water'\n",
    "P_o = 101325\n",
    "T_o = 25 + 273.15\n",
    "rho = cp.PropsSI(\"D\", \"T\", T_o, \"P\", P_o, fluid)\n",
    "mu = cp.PropsSI(\"V\",\"T\", T_o, \"P\", P_o, fluid)"
   ]
  },
  {
   "cell_type": "code",
   "execution_count": 4,
   "metadata": {},
   "outputs": [
    {
     "data": {
      "text/plain": [
       "78221.57765628686"
      ]
     },
     "execution_count": 4,
     "metadata": {},
     "output_type": "execute_result"
    }
   ],
   "source": [
    "DELTA_P_e = rho * g * z\n",
    "\n",
    "DELTA_P_e"
   ]
  },
  {
   "cell_type": "markdown",
   "metadata": {},
   "source": [
    "La pérdida de carga debido a la fricción puede calcularse realizando un análisis de la fricción de la tubería,\n",
    "\n",
    "$\\Delta P_{\\text{friction}} =f \\frac{L}{D} \\frac{\\rho V^{2}}{2}$\n",
    "\n",
    "La velocidad en la tubería es una función del caudal y del diámetro de la tubería,\n",
    "\n",
    "$V=\\frac{\\dot{V}}{A}=\\frac{4 \\dot{V}}{\\pi D^{2}}$\n",
    "\n",
    "Sustituyendo esta expresión en la ecuación de la caída de presión por fricción se obtiene\n",
    "\n",
    "$\\Delta P_{\\text {friction }}=f \\frac{8 \\rho L \\dot{V}^{2}}{\\pi^{2} D^{5}}$"
   ]
  },
  {
   "cell_type": "code",
   "execution_count": 5,
   "metadata": {},
   "outputs": [],
   "source": [
    "D = 0.02\n",
    "A_D = (np.pi * D**2)/4\n",
    "V = V_dot / A_D\n",
    "Re = fld.Reynolds(D, rho, V, mu)\n"
   ]
  },
  {
   "cell_type": "code",
   "execution_count": 6,
   "metadata": {},
   "outputs": [
    {
     "data": {
      "text/plain": [
       "0.025419834653613246"
      ]
     },
     "execution_count": 6,
     "metadata": {},
     "output_type": "execute_result"
    }
   ],
   "source": [
    "epsilon = fld.roughness_Farshad('Plastic coated', D)\n",
    "f = fld.friction.friction_factor(Re, eD=epsilon/D)\n",
    "f"
   ]
  },
  {
   "cell_type": "code",
   "execution_count": 7,
   "metadata": {},
   "outputs": [
    {
     "data": {
      "text/plain": [
       "32812.86980148238"
      ]
     },
     "execution_count": 7,
     "metadata": {},
     "output_type": "execute_result"
    }
   ],
   "source": [
    "DELTA_P_f = (f * 8 * rho * (L + z) * V_dot**2)/(np.pi**2 * D**5)\n",
    "DELTA_P_f"
   ]
  },
  {
   "cell_type": "markdown",
   "metadata": {},
   "source": [
    "Pérdida de carga por Singularidades: 2 codos de 90 grados\n",
    "\n",
    "$\\Delta P_{singular} = \\sum_{i}{K_i \\rho \\frac{V_1^2}{2}}$\n"
   ]
  },
  {
   "cell_type": "code",
   "execution_count": 22,
   "metadata": {},
   "outputs": [
    {
     "data": {
      "text/plain": [
       "319.82563292924823"
      ]
     },
     "execution_count": 22,
     "metadata": {},
     "output_type": "execute_result"
    }
   ],
   "source": [
    "K = fld.fittings.bend_rounded_Crane(Di=D, bend_diameters=2, angle=90) # bend_diameters = Number of diameters of pipe making up the bend radius\n",
    "\n",
    "DELTA_P_s = 2 * (K * rho * 8* V_dot**2)/(np.pi**2 * D**4)\n",
    "DELTA_P_s "
   ]
  },
  {
   "cell_type": "code",
   "execution_count": 23,
   "metadata": {},
   "outputs": [
    {
     "data": {
      "text/plain": [
       "111301.23015642285"
      ]
     },
     "execution_count": 23,
     "metadata": {},
     "output_type": "execute_result"
    }
   ],
   "source": [
    "Delta_P = DELTA_P_f + DELTA_P_e + DELTA_P_s\n",
    "Delta_P"
   ]
  },
  {
   "cell_type": "markdown",
   "metadata": {},
   "source": [
    "**Análisis de Sensibilidad**"
   ]
  },
  {
   "cell_type": "markdown",
   "metadata": {},
   "source": [
    "vectorized module wraps all of the fluids functions with np.vectorize\n",
    "\n",
    "---> also explore fluids.numba_vectorized "
   ]
  },
  {
   "cell_type": "code",
   "execution_count": 12,
   "metadata": {},
   "outputs": [],
   "source": [
    "from fluids.vectorized import * "
   ]
  },
  {
   "cell_type": "code",
   "execution_count": 24,
   "metadata": {},
   "outputs": [],
   "source": [
    "D_range = np.array([0.25, 0.5, 0.75, 1, 1.25, 1.5, 1.75, 2])*25.4/1000\n",
    "\n",
    "A_range = (np.pi * D_range**2)/4\n",
    "V_range = V_dot / A_range\n",
    "Re_range = Reynolds(D_range, rho, V_range, mu)\n",
    "\n",
    "epsilon_range = roughness_Farshad('Plastic coated', D_range)\n",
    "eD_range = epsilon_range/D_range"
   ]
  },
  {
   "cell_type": "code",
   "execution_count": 27,
   "metadata": {},
   "outputs": [
    {
     "data": {
      "text/plain": [
       "array([0.02224135, 0.02348694, 0.02517704, 0.02672777, 0.02811751,\n",
       "       0.02937306, 0.03052043, 0.0315799 ])"
      ]
     },
     "execution_count": 27,
     "metadata": {},
     "output_type": "execute_result"
    }
   ],
   "source": [
    "f_range = friction_factor(Re=Re_range, eD=eD_range) \n",
    "\n",
    "f_range"
   ]
  },
  {
   "cell_type": "code",
   "execution_count": 28,
   "metadata": {},
   "outputs": [
    {
     "data": {
      "text/plain": [
       "array([8.89844135e+06, 2.93649510e+05, 4.14525548e+04, 1.04427693e+04,\n",
       "       3.59981035e+03, 1.51128276e+03, 7.26529571e+02, 3.85579303e+02])"
      ]
     },
     "execution_count": 28,
     "metadata": {},
     "output_type": "execute_result"
    }
   ],
   "source": [
    "DELTA_P_f_range = (f_range * 8 * rho * (L + z) * V_dot**2)/(np.pi**2 * D_range**5)\n",
    "\n",
    "DELTA_P_f_range"
   ]
  },
  {
   "cell_type": "code",
   "execution_count": 34,
   "metadata": {},
   "outputs": [
    {
     "data": {
      "text/plain": [
       "array([0.39618504, 0.32256929, 0.28864008, 0.2677113 , 0.25300592,\n",
       "       0.2418716 , 0.23302106, 0.22574108])"
      ]
     },
     "execution_count": 34,
     "metadata": {},
     "output_type": "execute_result"
    }
   ],
   "source": [
    "K_range = bend_rounded_Crane(Di=D_range, bend_diameters=2, angle=90) # bend_diameters = Number of diameters of pipe making up the bend radius\n",
    "K_range"
   ]
  },
  {
   "cell_type": "code",
   "execution_count": 35,
   "metadata": {},
   "outputs": [
    {
     "data": {
      "text/plain": [
       "array([4.37619649e+04, 2.22690541e+03, 3.93613833e+02, 1.15511566e+02,\n",
       "       4.47146052e+01, 2.06147756e+01, 1.07201717e+01, 6.08764605e+00])"
      ]
     },
     "execution_count": 35,
     "metadata": {},
     "output_type": "execute_result"
    }
   ],
   "source": [
    "DELTA_P_s_range = 2 * (K_range * rho * 8* V_dot**2)/(np.pi**2 * D_range**4)\n",
    "DELTA_P_s_range"
   ]
  },
  {
   "cell_type": "code",
   "execution_count": 39,
   "metadata": {},
   "outputs": [
    {
     "data": {
      "text/plain": [
       "array([9020371.85246683,  374044.95051674,  120014.70331483,\n",
       "         88726.81558946,   81813.05967226,   79700.4322566 ,\n",
       "         78905.78446469,   78560.20167144])"
      ]
     },
     "execution_count": 39,
     "metadata": {},
     "output_type": "execute_result"
    }
   ],
   "source": [
    "Delta_P_range = DELTA_P_f_range + DELTA_P_e + DELTA_P_s_range\n",
    "Delta_P_range\n"
   ]
  },
  {
   "cell_type": "code",
   "execution_count": 40,
   "metadata": {},
   "outputs": [
    {
     "data": {
      "image/png": "[encoded data removed]",
      "text/plain": [
       "<Figure size 432x288 with 1 Axes>"
      ]
     },
     "metadata": {
      "needs_background": "light"
     },
     "output_type": "display_data"
    }
   ],
   "source": [
    "import matplotlib.pyplot as plt\n",
    "\n",
    "plt.figure()\n",
    "plt.plot(D_range * 1000, Delta_P_range/1000)\n",
    "plt.xlabel(\"Diameter [mm]\")\n",
    "plt.ylabel(r\"Head Loss, $\\Delta P$ [kPa]\")\n",
    "plt.title(\"Pérdida de carga en función del diámetro\")\n",
    "plt.xlim([0, 70])\n",
    "plt.ylim([0, 12000])\n",
    "plt.grid(True)\n",
    "plt.tight_layout()"
   ]
  },
  {
   "cell_type": "markdown",
   "metadata": {},
   "source": []
  }
 ],
 "metadata": {
  "kernelspec": {
   "display_name": "Python 3.9.12 ('Thermodynamics')",
   "language": "python",
   "name": "python3"
  },
  "language_info": {
   "codemirror_mode": {
    "name": "ipython",
    "version": 3
   },
   "file_extension": ".py",
   "mimetype": "text/x-python",
   "name": "python",
   "nbconvert_exporter": "python",
   "pygments_lexer": "ipython3",
   "version": "3.9.16"
  },
  "orig_nbformat": 4,
  "vscode": {
   "interpreter": {
    "hash": "e3e00a7bd6eae02d2ccac1eb55407bbbd95142f269ed3bd1034733c2cfa4f866"
   }
  }
 },
 "nbformat": 4,
 "nbformat_minor": 2
}

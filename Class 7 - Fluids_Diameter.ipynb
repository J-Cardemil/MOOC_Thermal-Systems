{
 "cells": [
  {
   "cell_type": "markdown",
   "metadata": {},
   "source": [
    "## **Análisis de Sistemas Térmicos usando Python**\n",
    "\n",
    "Clase 5:    Uso de biblioteca fluids para evaluar pérdida de carga en tuberías\n",
    "\n",
    "            Uso de unidades en Python"
   ]
  },
  {
   "cell_type": "markdown",
   "metadata": {},
   "source": [
    "Primero instalamos en Colab las librerías necesarias para el desarrollo del ejemplo"
   ]
  },
  {
   "cell_type": "code",
   "execution_count": null,
   "metadata": {},
   "outputs": [],
   "source": [
    "#pip install Coolprop"
   ]
  },
  {
   "cell_type": "code",
   "execution_count": null,
   "metadata": {},
   "outputs": [],
   "source": [
    "#pip install fluids"
   ]
  },
  {
   "cell_type": "markdown",
   "metadata": {},
   "source": [
    "En este ejemplo buscamos analizar el sistema de tuberías que se muestra en la figura. \n",
    "\n",
    "El sistema transporta agua, a 20°C, en una tubería de 38 mts de longitud en la horizontal y una diferencia de altura de 8 mts.\n",
    "\n",
    "Buscamos evaluar el efecto del diámetro de la tubería en la potencia requerida por el sistema de bombas, con tal de asegurar un caudal de 20 litros por minuto.\n",
    "\n",
    "<img src=\"Fig Class_7.png\" alt=\"Example\" />"
   ]
  },
  {
   "cell_type": "markdown",
   "metadata": {},
   "source": [
    "Importamos las librerías que iremos a utilizar, destacando fluids y su opción de manejo de unidades.\n",
    "Asimismo, aprovechamos de importar el valor de la aceleración de gravedad desde la librería SciPy"
   ]
  },
  {
   "cell_type": "code",
   "execution_count": 1,
   "metadata": {},
   "outputs": [],
   "source": [
    "import CoolProp.CoolProp as cp\n",
    "import fluids as fld\n",
    "import numpy as np\n",
    "\n",
    "from fluids.units import *\n",
    "from scipy.constants import g"
   ]
  },
  {
   "cell_type": "markdown",
   "metadata": {},
   "source": [
    "Definimos las variables asociadas a los datos de entrada del problema, y aprovechamos de usar la extensiónd e unidades de fluids.\n",
    "\n",
    "Cabe mencionar que esta extensión está basada en el paquete [pint](https://pint.readthedocs.io/en/stable/)."
   ]
  },
  {
   "cell_type": "code",
   "execution_count": 2,
   "metadata": {},
   "outputs": [],
   "source": [
    "g = g * u.m/u.s**2\n",
    "z = 8 * u.m\n",
    "L = 38 * u.m + z\n",
    "\n",
    "V_dot = (20 * u.liter/u.minute).to(u.m**3/u.s)"
   ]
  },
  {
   "cell_type": "markdown",
   "metadata": {},
   "source": [
    "Propiedades termofísicas del fluido - Agua,\n",
    "\n",
    "en este caso usamos CoolProp - (**Cuidado:** *Coolprop no permite trabajar con unidades, solo con valores adimensionales*)"
   ]
  },
  {
   "cell_type": "code",
   "execution_count": 3,
   "metadata": {},
   "outputs": [],
   "source": [
    "fluid = 'water'\n",
    "P_o = 101325\n",
    "T_o = 20 + 273.15\n",
    "rho = cp.PropsSI(\"D\", \"T\", T_o, \"P\", P_o, fluid)*u.kg/u.m**3\n",
    "mu = cp.PropsSI(\"V\",\"T\", T_o, \"P\", P_o, fluid)*u.Pa*u.s"
   ]
  },
  {
   "cell_type": "markdown",
   "metadata": {},
   "source": [
    "Para suministrar el caudal de agua deseado la bomba debe suministrar suficiente presión para superar (1) la diferencia de altitud y (2) los efectos de fricción en la red de tuberías de la red,\n",
    "\n",
    "$\\Delta P_{\\text {pump}}=\\Delta P_{\\text{elevation}}+\\Delta P_{\\text{friction}}$\n"
   ]
  },
  {
   "cell_type": "markdown",
   "metadata": {},
   "source": [
    "El requerimiento de presión necesario para superar la diferencia de altitud es\n",
    "\n",
    "$ \\Delta P_{\\text{elevation}}= \\rho g z $\n",
    "\n"
   ]
  },
  {
   "cell_type": "code",
   "execution_count": 4,
   "metadata": {},
   "outputs": [
    {
     "data": {
      "text/html": [
       "78.31254521709047 kilopascal"
      ],
      "text/latex": [
       "$78.31254521709047\\ \\mathrm{kilopascal}$"
      ],
      "text/plain": [
       "78.31254521709047 <Unit('kilopascal')>"
      ]
     },
     "execution_count": 4,
     "metadata": {},
     "output_type": "execute_result"
    }
   ],
   "source": [
    "DELTA_P_e = (rho * g * z).to('kPa')\n",
    "DELTA_P_e"
   ]
  },
  {
   "cell_type": "markdown",
   "metadata": {},
   "source": [
    "La pérdida de carga debido a la fricción puede calcularse realizando un análisis de la fricción de la tubería,\n",
    "\n",
    "$\\Delta P_{\\text{friction}} =f \\frac{L}{D} \\frac{\\rho V^{2}}{2}$\n",
    "\n",
    "La velocidad en la tubería es una función del caudal y del diámetro de la tubería,\n",
    "\n",
    "$V=\\frac{\\dot{V}}{A}=\\frac{4 \\dot{V}}{\\pi D^{2}}$\n",
    "\n",
    "Sustituyendo esta expresión en la ecuación de la caída de presión por fricción se obtiene\n",
    "\n",
    "$\\Delta P_{\\text {friction }}=f \\frac{8 \\rho L \\dot{V}^{2}}{\\pi^{2} D^{5}}$"
   ]
  },
  {
   "cell_type": "markdown",
   "metadata": {},
   "source": [
    "De esta forma, arbitraremos un valor del diámetro de la tubería para determinamos la velocidad"
   ]
  },
  {
   "cell_type": "code",
   "execution_count": 5,
   "metadata": {},
   "outputs": [],
   "source": [
    "D = 0.02 * u.m\n",
    "A_D = (np.pi * D**2)/4\n",
    "V = V_dot / A_D"
   ]
  },
  {
   "cell_type": "markdown",
   "metadata": {},
   "source": [
    "Luego determinamos el número de Reynolds y posterimente el factor de fricción, a través de la librería **fluids**"
   ]
  },
  {
   "cell_type": "code",
   "execution_count": 6,
   "metadata": {},
   "outputs": [
    {
     "data": {
      "text/html": [
       "21148.857027566508 dimensionless"
      ],
      "text/latex": [
       "$21148.857027566508\\ dimensionless$"
      ],
      "text/plain": [
       "21148.857027566508 <Unit('dimensionless')>"
      ]
     },
     "execution_count": 6,
     "metadata": {},
     "output_type": "execute_result"
    }
   ],
   "source": [
    "Re = (fld.Reynolds(D, rho, V, mu)).to('dimensionless')\n",
    "Re"
   ]
  },
  {
   "cell_type": "markdown",
   "metadata": {},
   "source": [
    "Como el factor de fricción es función de la rugosidad deñl material, recurrimos al diccionaroio de materiales de la librería **fluids**."
   ]
  },
  {
   "cell_type": "code",
   "execution_count": 17,
   "metadata": {},
   "outputs": [
    {
     "name": "stdout",
     "output_type": "stream",
     "text": [
      "Plastic coated\n"
     ]
    },
    {
     "data": {
      "text/html": [
       "5×10<sup>-6</sup> meter"
      ],
      "text/latex": [
       "$5\\times 10^{-6}\\ \\mathrm{meter}$"
      ],
      "text/plain": [
       "5e-06 <Unit('meter')>"
      ]
     },
     "execution_count": 17,
     "metadata": {},
     "output_type": "execute_result"
    }
   ],
   "source": [
    "material = fld.nearest_material_roughness('New plastic water piping', clean=True)\n",
    "print(material)\n",
    "\n",
    "epsilon = fld.material_roughness(material)*u.m\n",
    "epsilon"
   ]
  },
  {
   "cell_type": "markdown",
   "metadata": {},
   "source": [
    "Finalmente se determina el factor de friccion utilizando la misma librería, especificando la correlación que deseamos usar. En general las correlaciones varían poco. En este caso se usa la de Colebrook-White."
   ]
  },
  {
   "cell_type": "code",
   "execution_count": 18,
   "metadata": {},
   "outputs": [
    {
     "data": {
      "text/html": [
       "0.02608807317540402 dimensionless"
      ],
      "text/latex": [
       "$0.02608807317540402\\ dimensionless$"
      ],
      "text/plain": [
       "0.02608807317540402 <Unit('dimensionless')>"
      ]
     },
     "execution_count": 18,
     "metadata": {},
     "output_type": "execute_result"
    }
   ],
   "source": [
    "f = fld.friction.friction_factor(Re, eD=epsilon/D, Method='Colebrook')\n",
    "f"
   ]
  },
  {
   "cell_type": "markdown",
   "metadata": {},
   "source": [
    "Pero si usaramos la correlación de Churchill, vemos que la variación es muy pequeña"
   ]
  },
  {
   "cell_type": "code",
   "execution_count": 19,
   "metadata": {},
   "outputs": [
    {
     "data": {
      "text/html": [
       "0.02610765499392317 dimensionless"
      ],
      "text/latex": [
       "$0.02610765499392317\\ dimensionless$"
      ],
      "text/plain": [
       "0.02610765499392317 <Unit('dimensionless')>"
      ]
     },
     "execution_count": 19,
     "metadata": {},
     "output_type": "execute_result"
    }
   ],
   "source": [
    "f_c = fld.friction.friction_factor(Re, eD=epsilon/D, Method='Churchill_1977') \n",
    "f_c"
   ]
  },
  {
   "cell_type": "markdown",
   "metadata": {},
   "source": [
    "Finalmente determinamos el requerimiento de presión para vencer las pérdidas de fricción en la tubería."
   ]
  },
  {
   "cell_type": "code",
   "execution_count": 20,
   "metadata": {},
   "outputs": [
    {
     "data": {
      "text/html": [
       "33.71461976300605 kilopascal"
      ],
      "text/latex": [
       "$33.71461976300605\\ \\mathrm{kilopascal}$"
      ],
      "text/plain": [
       "33.71461976300605 <Unit('kilopascal')>"
      ]
     },
     "execution_count": 20,
     "metadata": {},
     "output_type": "execute_result"
    }
   ],
   "source": [
    "DELTA_P_f = ((f * 8 * rho * L * V_dot**2)/(np.pi**2 * D**5)).to(u.kPa)\n",
    "DELTA_P_f"
   ]
  },
  {
   "cell_type": "markdown",
   "metadata": {},
   "source": [
    "La pérdida de carga por singularidades sería asociada a los 2 codos de 90 grados.\n",
    "\n",
    "La expresión de la presion necesasaria para vencer la pérdida de carga por singularidades es:\n",
    "\n",
    "$\\Delta P_{singular} = \\sum_{i}{K_i \\rho \\frac{V_1^2}{2}}$\n",
    "\n",
    "Luego, Utilizando nuevamente el diccionario de la librería **fluids**, tenemos:\n"
   ]
  },
  {
   "cell_type": "code",
   "execution_count": 21,
   "metadata": {},
   "outputs": [
    {
     "data": {
      "text/html": [
       "0.3201975732375594 kilopascal"
      ],
      "text/latex": [
       "$0.3201975732375594\\ \\mathrm{kilopascal}$"
      ],
      "text/plain": [
       "0.3201975732375594 <Unit('kilopascal')>"
      ]
     },
     "execution_count": 21,
     "metadata": {},
     "output_type": "execute_result"
    }
   ],
   "source": [
    "K = fld.fittings.bend_rounded_Crane(Di=D.magnitude, bend_diameters=2, angle=90) # bend_diameters = Number of diameters of pipe making up the bend radius\n",
    "\n",
    "DELTA_P_s = (2 * (K * rho * 8* V_dot**2)/(np.pi**2 * D**4)).to(u.kPa)\n",
    "DELTA_P_s "
   ]
  },
  {
   "cell_type": "markdown",
   "metadata": {},
   "source": [
    "Finalmente, el requerimiento de presión es la suma de los 3 efectos antes calculados"
   ]
  },
  {
   "cell_type": "code",
   "execution_count": 22,
   "metadata": {},
   "outputs": [
    {
     "data": {
      "text/html": [
       "112.3473625533341 kilopascal"
      ],
      "text/latex": [
       "$112.3473625533341\\ \\mathrm{kilopascal}$"
      ],
      "text/plain": [
       "112.3473625533341 <Unit('kilopascal')>"
      ]
     },
     "execution_count": 22,
     "metadata": {},
     "output_type": "execute_result"
    }
   ],
   "source": [
    "Delta_P = DELTA_P_f + DELTA_P_e + DELTA_P_s\n",
    "Delta_P"
   ]
  },
  {
   "cell_type": "markdown",
   "metadata": {},
   "source": [
    "**Análisis de Sensibilidad**"
   ]
  },
  {
   "cell_type": "markdown",
   "metadata": {},
   "source": [
    "Ahora, buscamos analizar el efecto del diámetro de la tuberíam en el requerimiento de presión antes calculado para un diámetro arbitrario.\n",
    "\n",
    "PAra esto, utilizaremos la opción de vectores de la bibloteca **fluids**, que nos permite calcular el requerimiento de presión para un arreglo de diámetros.\n",
    "\n",
    "Esta opción consiudera los arreglos como arreglos de Numpy\n",
    "\n",
    "Les recomiendo también revisar la opción de **numba_vectorized**"
   ]
  },
  {
   "cell_type": "code",
   "execution_count": 23,
   "metadata": {},
   "outputs": [],
   "source": [
    "from fluids.vectorized import * "
   ]
  },
  {
   "cell_type": "markdown",
   "metadata": {},
   "source": [
    "Definimos un arreglo de diámetros de tuberías usando la función linspace de numpy. Esta función genera un arreglo de números equiespaciados entre dos valores. En este caso, generamos un arreglo de 150 números entre 5 mm y 15 cm.\n",
    "\n",
    "Para cada valor de dicho arreglo calculamos el área de la tubería, velocidad, número de Reynolds y rugosidad relativa."
   ]
  },
  {
   "cell_type": "code",
   "execution_count": 24,
   "metadata": {},
   "outputs": [
    {
     "name": "stderr",
     "output_type": "stream",
     "text": [
      "c:\\Users\\jmcar\\anaconda3\\envs\\Thermodynamics\\lib\\site-packages\\numpy\\lib\\function_base.py:2336: UnitStrippedWarning: The unit of the quantity is stripped when downcasting to ndarray.\n",
      "  args = [asarray(arg) for arg in args]\n",
      "c:\\Users\\jmcar\\anaconda3\\envs\\Thermodynamics\\lib\\site-packages\\numpy\\lib\\function_base.py:2385: UnitStrippedWarning: The unit of the quantity is stripped when downcasting to ndarray.\n",
      "  inputs = [asanyarray(a, dtype=object) for a in args]\n"
     ]
    }
   ],
   "source": [
    "D_range = np.linspace(0.005, 0.15, 150)*u.m\n",
    "\n",
    "A_range = (np.pi * D_range**2)/4\n",
    "V_range = V_dot / A_range\n",
    "Re_range = Reynolds(D_range, rho, V_range, mu)\n",
    "\n",
    "eD_range = epsilon/D_range"
   ]
  },
  {
   "cell_type": "markdown",
   "metadata": {},
   "source": [
    "Finalmente, tederminamos el factor de fricción asociado a cada tubería definida por el arreglo de diámetros"
   ]
  },
  {
   "cell_type": "code",
   "execution_count": 25,
   "metadata": {},
   "outputs": [
    {
     "data": {
      "text/plain": [
       "array([0.02254675, 0.02248081, 0.02256064, 0.0227273 , 0.02294643,\n",
       "       0.02319718, 0.02346657, 0.02374631, 0.02403105, 0.02431727,\n",
       "       0.02460264, 0.02488566, 0.02516533, 0.02544101, 0.02571233,\n",
       "       0.02597907, 0.02624112, 0.02649848, 0.02675119, 0.02699931,\n",
       "       0.02724296, 0.02748224, 0.02771729, 0.02794824, 0.02817522,\n",
       "       0.02839837, 0.02861783, 0.02883371, 0.02904615, 0.02925527,\n",
       "       0.02946118, 0.029664  , 0.02986384, 0.03006079, 0.03025496,\n",
       "       0.03044644, 0.03063532, 0.03082169, 0.03100563, 0.03118721,\n",
       "       0.03136652, 0.03154362, 0.03171858, 0.03189147, 0.03206235,\n",
       "       0.03223128, 0.03239831, 0.0325635 , 0.0327269 , 0.03288857,\n",
       "       0.03304855, 0.03320688, 0.03336362, 0.03351879, 0.03367245,\n",
       "       0.03382463, 0.03397537, 0.03412471, 0.03427268, 0.03441931,\n",
       "       0.03456463, 0.03470869, 0.0348515 , 0.03499309, 0.0351335 ,\n",
       "       0.03527275, 0.03541086, 0.03554786, 0.03568378, 0.03581864,\n",
       "       0.03595246, 0.03608525, 0.03621706, 0.03634788, 0.03647775,\n",
       "       0.03660668, 0.03673469, 0.0368618 , 0.03698803, 0.03711339,\n",
       "       0.0372379 , 0.03736158, 0.03748443, 0.03760649, 0.03772775,\n",
       "       0.03784823, 0.03796796, 0.03808694, 0.03820518, 0.0383227 ,\n",
       "       0.0384395 , 0.03855561, 0.03867104, 0.03878578, 0.03889987,\n",
       "       0.0390133 , 0.03912608, 0.03923823, 0.03934976, 0.03946068,\n",
       "       0.03957099, 0.03968071, 0.03978985, 0.0398984 , 0.04000639,\n",
       "       0.04011382, 0.0402207 , 0.04032703, 0.04043283, 0.0405381 ,\n",
       "       0.04064285, 0.04074709, 0.04085082, 0.04095405, 0.04105679,\n",
       "       0.04115904, 0.04126082, 0.04136212, 0.04146296, 0.04156333,\n",
       "       0.04166326, 0.04176273, 0.04186176, 0.04196036, 0.04205852,\n",
       "       0.04215626, 0.04225358, 0.04235048, 0.04244697, 0.04254305,\n",
       "       0.04263874, 0.04273403, 0.04282893, 0.04292344, 0.04301758,\n",
       "       0.04311133, 0.04320471, 0.04329773, 0.04339038, 0.04348267,\n",
       "       0.0435746 , 0.04366618, 0.04375741, 0.0438483 , 0.04393885,\n",
       "       0.04402906, 0.04411894, 0.04420849, 0.04429771, 0.04438661])"
      ]
     },
     "execution_count": 25,
     "metadata": {},
     "output_type": "execute_result"
    }
   ],
   "source": [
    "f_range = friction_factor(Re=Re_range, eD=eD_range) \n",
    "\n",
    "f_range"
   ]
  },
  {
   "cell_type": "markdown",
   "metadata": {},
   "source": [
    "Ahora, determinamos los requerimientos de presión para vencer las pérdidas por fricción en la tubería."
   ]
  },
  {
   "cell_type": "code",
   "execution_count": 29,
   "metadata": {},
   "outputs": [],
   "source": [
    "DELTA_P_f_range = ((f_range * 8 * rho * (L + z) * V_dot**2)/(np.pi**2 * D_range**5)).to(u.kPa)"
   ]
  },
  {
   "cell_type": "markdown",
   "metadata": {},
   "source": [
    "Similarmente con las pérdidas asociadas a las singularidades"
   ]
  },
  {
   "cell_type": "code",
   "execution_count": 30,
   "metadata": {},
   "outputs": [],
   "source": [
    "K_range = bend_rounded_Crane(Di=D_range, bend_diameters=2, angle=90) # bend_diameters = Number of diameters of pipe making up the bend radius\n",
    "DELTA_P_s_range = (2 * (K_range * rho * 8* V_dot**2)/(np.pi**2 * D_range**4)).to(u.kPa)"
   ]
  },
  {
   "cell_type": "markdown",
   "metadata": {},
   "source": [
    "Y determinamos los requerimientos totales"
   ]
  },
  {
   "cell_type": "code",
   "execution_count": 28,
   "metadata": {},
   "outputs": [
    {
     "data": {
      "text/html": [
       "<table><tbody><tr><th>Magnitude</th><td style='text-align:left;'><pre>[35227.75351463489 14488.780522503801 6880.478231203534 3637.094583617646<br> 2091.816460845247 1289.769712927965 844.2273693220776 582.6867521056365<br> 421.97961773228513 319.35856365746343 251.64235261816637<br> 205.67436923552518 173.68905529647114 150.94394620549463<br> 134.4548354484169 122.29352657056195 113.18440138151604<br> 106.26551244821552 100.94320894487632 96.80148661058998 93.54419596523161<br> 90.9574488187156 88.88470950544172 87.21000979479548 85.8464608720704<br> 84.72827703278107 83.80516344874046 83.03831821082326 82.3975513363407<br> 81.85918622777722 81.40451560700171 81.01865463942106 80.68968147886784<br> 80.40798779378893 80.16578408498206 79.95672008324136 79.77559139259125<br> 79.61811126258768 79.48073189916204 79.3605037143621 79.2549638212242<br> 79.16204721238674 79.08001563744199 79.00740036763872 78.94295591620057<br> 78.8856224460959 78.83449510075108 78.78879887773266 78.74786796066883<br> 78.7111286525993 78.67808523080097 78.64830818106037 78.62142437744036<br> 78.59710885866828 78.57507791954535 78.55508328920018 78.53690721060634<br> 78.52035826988622 78.505267851329 78.49148711615675 78.47888442096746<br> 78.46734310632125 78.45675959778362 78.44704177142893 78.43810754375401<br> 78.42988365249104 78.42230460020497 78.41531173702667 78.40885246257909<br> 78.40287953023758 78.39735043943934 78.39222690390854 78.38747438546925<br> 78.3830616846347 78.37896058044032 78.37514551306685 78.37159330371361<br> 78.36828290695705 78.365195191488 78.36231274568212 78.35961970493695<br> 78.3571015981182 78.35474521080855 78.35253846335343 78.35047030195729<br> 78.34853060130618 78.346710077386 78.34500020933082 78.34339316928086<br> 78.34188175935371 78.34045935494153 78.33911985364071 78.33785762920341<br> 78.33666748997129 78.3355446413153 78.33448465165945 78.33348342171544<br> 78.33253715659599 78.33164234051331 78.33079571380011 78.32999425202085<br> 78.32923514696473 78.3285157893359 78.32783375297444 78.32718678046078<br> 78.3265727699705 78.32598976326102 78.32543593468351 78.32490958112422<br> 78.32440911278958 78.32393304475731 78.323479989224 78.32304864838652<br> 78.3226378079003 78.32224633086359 78.32187315228113 78.32151727396577<br> 78.32117775983988 78.32085373160231 78.3205443647298 78.32024888478452<br> 78.31996656400224 78.31969671813755 78.31943870354512 78.31919191447759<br> 78.31895578058247 78.31872976458209 78.31851336012176 78.318306089773<br> 78.31810750317953 78.31791717533467 78.31773470498025 78.31755971311739<br> 78.31739184162069 78.31723075194806 78.31707612393868 78.31692765469285<br> 78.31678505752728 78.31664806100056 78.3165164080034 78.31638985490896<br> 78.31626817077927 78.31615113662296 78.31603854470144 78.31593019787961<br> 78.31582590901805 78.31572550040377 78.31562880321711 78.3155356570317<br> 78.31544590934591]</pre></td></tr><tr><th>Units</th><td style='text-align:left;'>kilopascal</td></tr></tbody></table>"
      ],
      "text/latex": [
       "$\\begin{pmatrix}35227.75351463489 & 14488.780522503801 & 6880.478231203534 & 3637.094583617646 & 2091.816460845247 & 1289.769712927965 & 844.2273693220776 & 582.6867521056365 & 421.97961773228513 & 319.35856365746343 & 251.64235261816637 & 205.67436923552518 & 173.68905529647114 & 150.94394620549463 & 134.4548354484169 & 122.29352657056195 & 113.18440138151604 & 106.26551244821552 & 100.94320894487632 & 96.80148661058998 & 93.54419596523161 & 90.9574488187156 & 88.88470950544172 & 87.21000979479548 & 85.8464608720704 & 84.72827703278107 & 83.80516344874046 & 83.03831821082326 & 82.3975513363407 & 81.85918622777722 & 81.40451560700171 & 81.01865463942106 & 80.68968147886784 & 80.40798779378893 & 80.16578408498206 & 79.95672008324136 & 79.77559139259125 & 79.61811126258768 & 79.48073189916204 & 79.3605037143621 & 79.2549638212242 & 79.16204721238674 & 79.08001563744199 & 79.00740036763872 & 78.94295591620057 & 78.8856224460959 & 78.83449510075108 & 78.78879887773266 & 78.74786796066883 & 78.7111286525993 & 78.67808523080097 & 78.64830818106037 & 78.62142437744036 & 78.59710885866828 & 78.57507791954535 & 78.55508328920018 & 78.53690721060634 & 78.52035826988622 & 78.505267851329 & 78.49148711615675 & 78.47888442096746 & 78.46734310632125 & 78.45675959778362 & 78.44704177142893 & 78.43810754375401 & 78.42988365249104 & 78.42230460020497 & 78.41531173702667 & 78.40885246257909 & 78.40287953023758 & 78.39735043943934 & 78.39222690390854 & 78.38747438546925 & 78.3830616846347 & 78.37896058044032 & 78.37514551306685 & 78.37159330371361 & 78.36828290695705 & 78.365195191488 & 78.36231274568212 & 78.35961970493695 & 78.3571015981182 & 78.35474521080855 & 78.35253846335343 & 78.35047030195729 & 78.34853060130618 & 78.346710077386 & 78.34500020933082 & 78.34339316928086 & 78.34188175935371 & 78.34045935494153 & 78.33911985364071 & 78.33785762920341 & 78.33666748997129 & 78.3355446413153 & 78.33448465165945 & 78.33348342171544 & 78.33253715659599 & 78.33164234051331 & 78.33079571380011 & 78.32999425202085 & 78.32923514696473 & 78.3285157893359 & 78.32783375297444 & 78.32718678046078 & 78.3265727699705 & 78.32598976326102 & 78.32543593468351 & 78.32490958112422 & 78.32440911278958 & 78.32393304475731 & 78.323479989224 & 78.32304864838652 & 78.3226378079003 & 78.32224633086359 & 78.32187315228113 & 78.32151727396577 & 78.32117775983988 & 78.32085373160231 & 78.3205443647298 & 78.32024888478452 & 78.31996656400224 & 78.31969671813755 & 78.31943870354512 & 78.31919191447759 & 78.31895578058247 & 78.31872976458209 & 78.31851336012176 & 78.318306089773 & 78.31810750317953 & 78.31791717533467 & 78.31773470498025 & 78.31755971311739 & 78.31739184162069 & 78.31723075194806 & 78.31707612393868 & 78.31692765469285 & 78.31678505752728 & 78.31664806100056 & 78.3165164080034 & 78.31638985490896 & 78.31626817077927 & 78.31615113662296 & 78.31603854470144 & 78.31593019787961 & 78.31582590901805 & 78.31572550040377 & 78.31562880321711 & 78.3155356570317 & 78.31544590934591\\end{pmatrix}\\ \\mathrm{kilopascal}$"
      ],
      "text/plain": [
       "array([35227.75351463, 14488.7805225 ,  6880.4782312 ,  3637.09458362,\n",
       "        2091.81646085,  1289.76971293,   844.22736932,   582.68675211,\n",
       "         421.97961773,   319.35856366,   251.64235262,   205.67436924,\n",
       "         173.6890553 ,   150.94394621,   134.45483545,   122.29352657,\n",
       "         113.18440138,   106.26551245,   100.94320894,    96.80148661,\n",
       "          93.54419597,    90.95744882,    88.88470951,    87.21000979,\n",
       "          85.84646087,    84.72827703,    83.80516345,    83.03831821,\n",
       "          82.39755134,    81.85918623,    81.40451561,    81.01865464,\n",
       "          80.68968148,    80.40798779,    80.16578408,    79.95672008,\n",
       "          79.77559139,    79.61811126,    79.4807319 ,    79.36050371,\n",
       "          79.25496382,    79.16204721,    79.08001564,    79.00740037,\n",
       "          78.94295592,    78.88562245,    78.8344951 ,    78.78879888,\n",
       "          78.74786796,    78.71112865,    78.67808523,    78.64830818,\n",
       "          78.62142438,    78.59710886,    78.57507792,    78.55508329,\n",
       "          78.53690721,    78.52035827,    78.50526785,    78.49148712,\n",
       "          78.47888442,    78.46734311,    78.4567596 ,    78.44704177,\n",
       "          78.43810754,    78.42988365,    78.4223046 ,    78.41531174,\n",
       "          78.40885246,    78.40287953,    78.39735044,    78.3922269 ,\n",
       "          78.38747439,    78.38306168,    78.37896058,    78.37514551,\n",
       "          78.3715933 ,    78.36828291,    78.36519519,    78.36231275,\n",
       "          78.3596197 ,    78.3571016 ,    78.35474521,    78.35253846,\n",
       "          78.3504703 ,    78.3485306 ,    78.34671008,    78.34500021,\n",
       "          78.34339317,    78.34188176,    78.34045935,    78.33911985,\n",
       "          78.33785763,    78.33666749,    78.33554464,    78.33448465,\n",
       "          78.33348342,    78.33253716,    78.33164234,    78.33079571,\n",
       "          78.32999425,    78.32923515,    78.32851579,    78.32783375,\n",
       "          78.32718678,    78.32657277,    78.32598976,    78.32543593,\n",
       "          78.32490958,    78.32440911,    78.32393304,    78.32347999,\n",
       "          78.32304865,    78.32263781,    78.32224633,    78.32187315,\n",
       "          78.32151727,    78.32117776,    78.32085373,    78.32054436,\n",
       "          78.32024888,    78.31996656,    78.31969672,    78.3194387 ,\n",
       "          78.31919191,    78.31895578,    78.31872976,    78.31851336,\n",
       "          78.31830609,    78.3181075 ,    78.31791718,    78.3177347 ,\n",
       "          78.31755971,    78.31739184,    78.31723075,    78.31707612,\n",
       "          78.31692765,    78.31678506,    78.31664806,    78.31651641,\n",
       "          78.31638985,    78.31626817,    78.31615114,    78.31603854,\n",
       "          78.3159302 ,    78.31582591,    78.3157255 ,    78.3156288 ,\n",
       "          78.31553566,    78.31544591]) <Unit('kilopascal')>"
      ]
     },
     "execution_count": 28,
     "metadata": {},
     "output_type": "execute_result"
    }
   ],
   "source": [
    "Delta_P_range = DELTA_P_f_range + DELTA_P_e + DELTA_P_s_range\n",
    "Delta_P_range"
   ]
  },
  {
   "cell_type": "markdown",
   "metadata": {},
   "source": [
    "Si graficamos la perdida de carga asociada al flujo en función del diámetro de la tubería, podemos ver como la pérdida de carga baja drásticamente a medida que el diametroa umenta, alcanzando un valor asintótico, semejante al de la pérdida de carga asociada a la eneregía potencial que es encesera suministrar al fluido para elevarlo 8 metros."
   ]
  },
  {
   "cell_type": "code",
   "execution_count": 31,
   "metadata": {},
   "outputs": [
    {
     "name": "stderr",
     "output_type": "stream",
     "text": [
      "c:\\Users\\jmcar\\anaconda3\\envs\\Thermodynamics\\lib\\site-packages\\matplotlib\\cbook\\__init__.py:1298: UnitStrippedWarning: The unit of the quantity is stripped when downcasting to ndarray.\n",
      "  return np.asarray(x, float)\n"
     ]
    },
    {
     "data": {
      "image/png": "[encoded data removed]",
      "text/plain": [
       "<Figure size 640x480 with 1 Axes>"
      ]
     },
     "metadata": {},
     "output_type": "display_data"
    }
   ],
   "source": [
    "import matplotlib.pyplot as plt\n",
    "\n",
    "plt.figure()\n",
    "plt.plot(D_range * 1000, Delta_P_range)\n",
    "plt.xlabel(\"Diameter [mm]\")\n",
    "plt.ylabel(r\"Head Loss, $\\Delta P$ [kPa]\")\n",
    "plt.title(\"Pérdida de carga en función del diámetro\")\n",
    "plt.xlim([0, 150])\n",
    "plt.ylim([0, 8000])\n",
    "plt.grid(True)\n",
    "plt.tight_layout()"
   ]
  }
 ],
 "metadata": {
  "kernelspec": {
   "display_name": "Python 3.9.12 ('Thermodynamics')",
   "language": "python",
   "name": "python3"
  },
  "language_info": {
   "codemirror_mode": {
    "name": "ipython",
    "version": 3
   },
   "file_extension": ".py",
   "mimetype": "text/x-python",
   "name": "python",
   "nbconvert_exporter": "python",
   "pygments_lexer": "ipython3",
   "version": "3.9.17"
  },
  "orig_nbformat": 4,
  "vscode": {
   "interpreter": {
    "hash": "e3e00a7bd6eae02d2ccac1eb55407bbbd95142f269ed3bd1034733c2cfa4f866"
   }
  }
 },
 "nbformat": 4,
 "nbformat_minor": 2
}

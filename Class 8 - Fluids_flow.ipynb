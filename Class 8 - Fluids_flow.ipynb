{
 "cells": [
  {
   "cell_type": "markdown",
   "metadata": {},
   "source": [
    "## **Análisis de Sistemas Térmicos usando Python**\n",
    "\n",
    "Clase 8:    Uso de librería fluids para evaluar flujo en tuberías - **fsolve** "
   ]
  },
  {
   "cell_type": "code",
   "execution_count": null,
   "metadata": {},
   "outputs": [],
   "source": [
    "#pip install CoolProp"
   ]
  },
  {
   "cell_type": "code",
   "execution_count": null,
   "metadata": {},
   "outputs": [],
   "source": [
    "#pip install fluids"
   ]
  },
  {
   "cell_type": "code",
   "execution_count": null,
   "metadata": {},
   "outputs": [],
   "source": [
    "#pip install pint"
   ]
  },
  {
   "cell_type": "markdown",
   "metadata": {},
   "source": [
    "La figura muestra un esquema de un sistema de dos estanques de agua conectados por dos cañerías con una bifurcación. \n",
    "\n",
    "Buscamos determinar el caudal que fluye entre los estanques, cuando la válvula en la sección 2 está completamente cerrada.\n",
    "\n",
    "\n",
    "![Ejemplo 3](M1_E3.png)\n",
    "\n",
    "Datos:\n",
    "* Cañerías de acero comercial\n",
    "* Tramo 1: $L_1$ = 3 m, $D_1$ = 4\"\n",
    "* Tramo 2: $L_2$ = 90 m, $D_2$ = 3\", 2 codos de 45º, 1 codo de 90º\n",
    "* Tramo 3: $L_3$ = 150 m, , $D_3$ = 4\", 1 codo de 90º\n",
    "* Tramo 4: $L_4$ = 3 m, $D_4$ = 4\"\n",
    "* Uniones en T son despreciadas para el cálculo de pérdidas de carga."
   ]
  },
  {
   "cell_type": "markdown",
   "metadata": {},
   "source": [
    "Importamos las librerías que utilizaremos. Se destaca la función **fsolve** de scipy.optimize, que nos permitirá resolver sistemas de ecuaciones no lineales."
   ]
  },
  {
   "cell_type": "code",
   "execution_count": 2,
   "metadata": {},
   "outputs": [],
   "source": [
    "import CoolProp.CoolProp as cp\n",
    "import fluids as fld\n",
    "import numpy as np\n",
    "from scipy.constants import g, inch\n",
    "from fluids.units import *\n",
    "from scipy.optimize import fsolve"
   ]
  },
  {
   "cell_type": "markdown",
   "metadata": {},
   "source": [
    "Luego definimos las variables asociadas a los datos de entrada del problema. Aprovechamos de utilizar la extensión de unidades del paquete **fluids**."
   ]
  },
  {
   "cell_type": "code",
   "execution_count": 3,
   "metadata": {},
   "outputs": [],
   "source": [
    "D_1 = 4 * inch * u.m #Pulgadas a metros\n",
    "D_2 = 3 * inch * u.m  #Pulgadas a metros\n",
    "D_3 = 4 * inch * u.m  #Pulgadas a metros\n",
    "D_4 = 4 * inch * u.m  #Pulgadas a metros\n",
    "\n",
    "L_1 = 3 * u.m   #metros\n",
    "L_2 = 90 * u.m  #metros\n",
    "L_3 = 150 * u.m #metros\n",
    "L_4 = 3 * u.m \n",
    "\n",
    "z = 1 * u.m     #metros\n",
    "\n",
    "fluid = \"water\"\n",
    "T_o = 300 *u.K #Kelvin\n",
    "rho = cp.PropsSI('D','T', T_o.magnitude, 'P',101325,fluid)*u.kg/u.m**3\n",
    "mu = cp.PropsSI('V','T', T_o.magnitude, 'P',101325,fluid)*u.Pa*u.s"
   ]
  },
  {
   "attachments": {},
   "cell_type": "markdown",
   "metadata": {},
   "source": [
    "Si la válvula en la cañería 2 está cerrada, no hay flujo en la sección 2\n",
    "\n",
    "$V_2 = 0$ - Velocidad Nula\n",
    "\n",
    "$\\dot{V}_2 = 0$ - Caudal Nulo\n",
    "\n",
    "La ecuación de Bernouilli se puede establecer para cada uno de los tramos de tubería y luego pueden sumarse entre sí. \n",
    "\n",
    "Haciendo Bernoulli para el flujo que pasa por los tramos 1, 3 y 4, queda:\n",
    "\n",
    " $\\rho g z_{AB}=\\left( {\\frac{1}{2}\\rho V_{1}^{2}\\left( {\\frac{f_1 L_1}{D_1}+K_1} \\right)} \\right)+\\frac{1}{2}\\rho V_{3}^{2}\\left( {\\frac{f_3 L_3}{D_3}+K_3} \\right) + \\left( {\\frac{1}{2}\\rho V_{4}^{2}\\left( {\\frac{f_4 L_4}{D_4}+K_4} \\right)} \\right)$\n",
    "\n",
    " Como no hay flujo en 2 y como $D_1=D_3=D_4$, entonces $V_1 =V_3 =V_4$.\n",
    " \n",
    " Luego,\n",
    "\n",
    "  $\\rho g \\Delta z= \\frac{1}{2}\\rho V_{1}^{2}\\left(f_1 \\frac{(L_1 + L_3 + L_4) }{D_1}+ \\sum_i{K_i} \\right)$"
   ]
  },
  {
   "cell_type": "markdown",
   "metadata": {},
   "source": [
    "Para aplicar entonces la ecuación de Bernoulli, debemos determinar los valores de los coeficientes de pérdidas menores, así como la rugosidad del material. \n",
    "\n",
    "Luego. Haciendo uso de los diccionarios de la librería **fluids**, tenemos:"
   ]
  },
  {
   "cell_type": "code",
   "execution_count": 4,
   "metadata": {},
   "outputs": [],
   "source": [
    "K_elbow_90 = fld.fittings.bend_rounded_Crane(Di=D_1.magnitude, bend_diameters=1, angle=90)*u.dimensionless\n",
    "K_exit = fld.exit_normal()*u.dimensionless\n",
    "K_entrance = fld.entrance_sharp()*u.dimensionless\n",
    "\n",
    "material = \"Commercial steel\"\n",
    "epsilon = fld.material_roughness(material)*u.m"
   ]
  },
  {
   "cell_type": "markdown",
   "metadata": {},
   "source": [
    "La diferencia de presión hidrostática entre los estánques induce el caudal que buscamos determinar.\n",
    "\n",
    "Esta diferencia de presión se puede define como:"
   ]
  },
  {
   "cell_type": "code",
   "execution_count": 100,
   "metadata": {},
   "outputs": [],
   "source": [
    "g = g * u.m / u.s**2\n",
    "DP_g = rho * g * z"
   ]
  },
  {
   "cell_type": "markdown",
   "metadata": {},
   "source": [
    "En este problema, como el caudal es desconocido, también lo es la velocidad del flujo. En dicho contexto, el factor de fricción también es desconocido.\n",
    "Así, la solución pasa a ser un problema iterativo. \n",
    "\n",
    "Para resolver el problema se pueden utilizar tecnicas de optimización, como el método de newton, entre otros. En este caso, se utilizará la función de **scipy.optimize.fsolve** que busca raíces a partir de un valor inicial.\n",
    "\n",
    "Definimos primero la función a resolver que consiera el flujo por las secciones 1-3-4"
   ]
  },
  {
   "cell_type": "code",
   "execution_count": 125,
   "metadata": {},
   "outputs": [],
   "source": [
    "def flow_134(V_dot):\n",
    "    V_dot = V_dot * u.m**3/u.s\n",
    "    DP_f = fld.one_phase_dP(V_dot*rho, rho, mu, D_1 ,epsilon, L_1+L_3+L_4)\n",
    "    DP_s =(K_elbow_90+K_exit+K_entrance)*((V_dot*4)/(np.pi*D_1**2))**2 * 0.5*rho\n",
    "    return (DP_f.magnitude + DP_s.magnitude - DP_g.magnitude)"
   ]
  },
  {
   "cell_type": "markdown",
   "metadata": {},
   "source": [
    "Cabe destacar que las funciones de la biblioteca optimize requieren que los argumentos sean escalares, por eso se usan solo las magnitudes de las variables."
   ]
  },
  {
   "cell_type": "markdown",
   "metadata": {},
   "source": [
    "Ahora, definimos un valor inicial de 10 lts/s (arbitrario) y resolvemos usando **fsolve**."
   ]
  },
  {
   "cell_type": "code",
   "execution_count": 126,
   "metadata": {},
   "outputs": [
    {
     "data": {
      "text/html": [
       "<table><tbody><tr><th>Magnitude</th><td style='text-align:left;'><pre>[4.523559498208209]</pre></td></tr><tr><th>Units</th><td style='text-align:left;'>liter/second</td></tr></tbody></table>"
      ],
      "text/latex": [
       "$\\begin{pmatrix}4.523559498208209\\end{pmatrix}\\ \\frac{\\mathrm{liter}}{\\mathrm{second}}$"
      ],
      "text/plain": [
       "array([4.5235595]) <Unit('liter / second')>"
      ]
     },
     "execution_count": 126,
     "metadata": {},
     "output_type": "execute_result"
    }
   ],
   "source": [
    "V_dot = (10*u.L/u.s).to(u.m**3/u.s)\n",
    "V_dot_134 = (fsolve(flow_134,V_dot))*u.m**3/u.s\n",
    "V_dot_134.to(u.L/u.s)"
   ]
  },
  {
   "cell_type": "markdown",
   "metadata": {},
   "source": [
    "## Parte B\n",
    "\n",
    "¿Qué sucede si la válvula se abre?\n",
    "\n",
    "![Ejemplo 3](M1_E3.png)\n",
    "\n",
    "En dicho caso el agua fluirá por ambas seciones: 2 y 3\n",
    "\n",
    "Así, el problema agrega una complejidad adicional pues la pérdida de carga observada entre las secciones 2 y 3 deben ser equivamentes. O sea\n",
    "\n",
    "$\\Delta P_2 = \\Delta P_3$\n",
    "\n",
    "Asimismo, el flujo másico que fluye por la seccion 1 debe distribuirse entre las secciones 2 y 3. \n",
    "\n",
    "De esta forma (asumiendo que el flujo es incompresible):\n",
    "\n",
    "$\\dot{V}_1 = \\dot{V}_2 + \\dot{V}_3$"
   ]
  },
  {
   "cell_type": "markdown",
   "metadata": {},
   "source": [
    "Para resolver, primero definimos los coeficientes de las singularidades de la sección 2, que no fueron definidos previamente."
   ]
  },
  {
   "cell_type": "code",
   "execution_count": 109,
   "metadata": {},
   "outputs": [],
   "source": [
    "K_elbow_45 = fld.fittings.bend_rounded_Crane(Di=D_2.magnitude, bend_diameters=1, angle=45)*u.dimensionless\n",
    "K_elbow_90_2 = fld.fittings.bend_rounded_Crane(Di=D_2.magnitude, bend_diameters=1, angle=90)*u.dimensionless\n",
    "K_globe = fld.fittings.K_gate_valve_Crane(D_2.magnitude, D_2.magnitude, 0)*u.dimensionless"
   ]
  },
  {
   "cell_type": "markdown",
   "metadata": {},
   "source": [
    "Luego, a modo de facilitar la compreesión del código, definimos una función para determinar la pérdida de carga en cada una de las secciones o tramos de tubería. En estas funciones se determinan las pérdidas de carga asociadas a la fricción y a las singularidades."
   ]
  },
  {
   "cell_type": "code",
   "execution_count": 136,
   "metadata": {},
   "outputs": [],
   "source": [
    "def flow_1(V_dot):\n",
    "    V_dot = V_dot * u.m**3/u.s\n",
    "    DP_f_1 = fld.one_phase_dP(V_dot*rho, rho, mu, D_1 ,epsilon, L_1)\n",
    "    DP_s_1 =(K_entrance)*((V_dot*4)/(np.pi*D_1**2))**2 * 0.5*rho\n",
    "    return (DP_f_1 + DP_s_1).magnitude"
   ]
  },
  {
   "cell_type": "code",
   "execution_count": 137,
   "metadata": {},
   "outputs": [],
   "source": [
    "def flow_2(V_dot):\n",
    "    V_dot = V_dot * u.m**3/u.s\n",
    "    DP_f_2 = fld.one_phase_dP(V_dot*rho, rho, mu, D_1 ,epsilon, L_2)\n",
    "    DP_s_2 =(K_globe + 2* K_elbow_45 + K_elbow_90_2)*((V_dot*4)/(np.pi*D_2**2))**2 * 0.5*rho\n",
    "    return (DP_f_2 + DP_s_2).magnitude"
   ]
  },
  {
   "cell_type": "code",
   "execution_count": 138,
   "metadata": {},
   "outputs": [],
   "source": [
    "def flow_3(V_dot):\n",
    "    V_dot = V_dot * u.m**3/u.s\n",
    "    DP_f_3 = fld.one_phase_dP(V_dot*rho, rho, mu, D_3 ,epsilon, L_3)\n",
    "    DP_s_3 =(K_elbow_90)*((V_dot*4)/(np.pi*D_3**2))**2 * 0.5 * rho\n",
    "    return (DP_f_3 + DP_s_3).magnitude"
   ]
  },
  {
   "cell_type": "code",
   "execution_count": 139,
   "metadata": {},
   "outputs": [],
   "source": [
    "def flow_4(V_dot):\n",
    "    V_dot = V_dot * u.m**3/u.s\n",
    "    DP_f_4 = fld.one_phase_dP(V_dot*rho, rho, mu, D_4 ,epsilon, L_4)\n",
    "    DP_s_4 =(K_exit)*((V_dot*4)/(np.pi*D_4**2))**2 * 0.5*rho\n",
    "    return (DP_f_4 + DP_s_4).magnitude"
   ]
  },
  {
   "cell_type": "markdown",
   "metadata": {},
   "source": [
    "Ahora, definimos las ecuaciones no lineales que constituyen el sistema a resolver:\n",
    "\n",
    "* Pérdida de carga equivalente entre las secciones 2 y 3 \n",
    "* Conservación de energía (Bernoulli) para el flujo pasando por las secciones 1, 2 y 4 (Es equivalente a la conservación de energía entre las secciones 1, 3 y 4)"
   ]
  },
  {
   "cell_type": "code",
   "execution_count": 140,
   "metadata": {},
   "outputs": [],
   "source": [
    "def Flow (x):\n",
    "    return [flow_2(x[0]*x[1])-flow_3(x[0]*(1-x[1])) , flow_1(x[0])+flow_2(x[0]* x[1])+flow_4(x[0]) - DP_g.magnitude]"
   ]
  },
  {
   "cell_type": "markdown",
   "metadata": {},
   "source": [
    "Luego, resolvemos el sistema de ecuaciones usando la función **fsolve** de la librería **scipy.optimize**. Esta función requiere como argumentos la función que contiene el sistema de ecuaciones y un vector con los valores iniciales de las variables. La función **fsolve** devuelve un vector con los valores de las variables que hacen que el sistema de ecuaciones sea igual a cero."
   ]
  },
  {
   "cell_type": "code",
   "execution_count": 146,
   "metadata": {},
   "outputs": [
    {
     "name": "stdout",
     "output_type": "stream",
     "text": [
      "0.5542493037485157\n"
     ]
    },
    {
     "data": {
      "text/html": [
       "9.072240898293497 liter/second"
      ],
      "text/latex": [
       "$9.072240898293497\\ \\frac{\\mathrm{liter}}{\\mathrm{second}}$"
      ],
      "text/plain": [
       "9.072240898293497 <Unit('liter / second')>"
      ]
     },
     "execution_count": 146,
     "metadata": {},
     "output_type": "execute_result"
    }
   ],
   "source": [
    "root = fsolve(Flow, [10/1000, 0.5])\n",
    "V_dot_open = (root[0]*u.m**3/u.s).to(u.L/u.s)\n",
    "\n",
    "print(root[1])\n",
    "V_dot_open"
   ]
  }
 ],
 "metadata": {
  "kernelspec": {
   "display_name": "Python 3.9.12 ('Thermodynamics')",
   "language": "python",
   "name": "python3"
  },
  "language_info": {
   "codemirror_mode": {
    "name": "ipython",
    "version": 3
   },
   "file_extension": ".py",
   "mimetype": "text/x-python",
   "name": "python",
   "nbconvert_exporter": "python",
   "pygments_lexer": "ipython3",
   "version": "3.9.17"
  },
  "orig_nbformat": 4,
  "vscode": {
   "interpreter": {
    "hash": "e3e00a7bd6eae02d2ccac1eb55407bbbd95142f269ed3bd1034733c2cfa4f866"
   }
  }
 },
 "nbformat": 4,
 "nbformat_minor": 2
}

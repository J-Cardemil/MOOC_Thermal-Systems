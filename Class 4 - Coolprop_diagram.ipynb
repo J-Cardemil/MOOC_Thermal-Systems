{
  "cells": [
    {
      "attachments": {},
      "cell_type": "markdown",
      "metadata": {
        "id": "_198vLQbUkPb"
      },
      "source": [
        "## **Análisis de Sistemas Térmicos usando Python**"
      ]
    },
    {
      "cell_type": "code",
      "execution_count": null,
      "metadata": {
        "colab": {
          "base_uri": "https://localhost:8080/"
        },
        "id": "vwYjfJB5T4io",
        "outputId": "a3395e17-cc16-48c8-bf4b-bdd9c8b1be5e"
      },
      "outputs": [
        {
          "name": "stdout",
          "output_type": "stream",
          "text": [
            "Looking in indexes: https://pypi.org/simple, https://us-python.pkg.dev/colab-wheels/public/simple/\n",
            "Requirement already satisfied: Coolprop in /usr/local/lib/python3.10/dist-packages (6.4.3.post1)\n"
          ]
        }
      ],
      "source": [
        "pip install Coolprop"
      ]
    },
    {
      "cell_type": "code",
      "execution_count": 14,
      "metadata": {},
      "outputs": [
        {
          "name": "stdout",
          "output_type": "stream",
          "text": [
            "Requirement already satisfied: beautifultable in c:\\users\\jmcar\\anaconda3\\envs\\thermodynamics\\lib\\site-packages (1.1.0)\n",
            "Requirement already satisfied: wcwidth in c:\\users\\jmcar\\anaconda3\\envs\\thermodynamics\\lib\\site-packages (from beautifultable) (0.2.5)\n",
            "Note: you may need to restart the kernel to use updated packages.\n"
          ]
        }
      ],
      "source": [
        "pip install beautifultable"
      ]
    },
    {
      "cell_type": "code",
      "execution_count": 9,
      "metadata": {
        "id": "eeXmOPI6HMUZ"
      },
      "outputs": [],
      "source": [
        "import CoolProp.CoolProp as cp\n",
        "import numpy as np"
      ]
    },
    {
      "attachments": {},
      "cell_type": "markdown",
      "metadata": {
        "id": "xIyYRyRgHnzA"
      },
      "source": [
        "Para este ejemplo nuevamente consideramos **Agua** como substancia de trabajo.\n",
        "\n",
        "Definiremos como Temperatura de referencia 298 K y Presión de referenica 1 atmósfera: 101,325 kPa"
      ]
    },
    {
      "cell_type": "code",
      "execution_count": 6,
      "metadata": {
        "id": "Jys1XrSZHTCY"
      },
      "outputs": [],
      "source": [
        "fluid = \"water\"\n",
        "ref_temp = 298 # K\n",
        "ref_press = 101325 # Pa"
      ]
    },
    {
      "attachments": {},
      "cell_type": "markdown",
      "metadata": {
        "id": "woH_sdV1IGqy"
      },
      "source": [
        "En este ejemplo, evaluaremos el proceso de vaporización de agua a 1 atm\n",
        "\n",
        "Evaluaremos el estado inicial a condiciones ambientales (0), seguirdo por una adicion de calor hasta el estado de líquido saturado (1), luego evaluaremos el estdo de vapor saturado (2) y finalmente evaluaremos el estado de vapor sobre calentado a 200°C, donde todos los estados anteriores se mantienen a 1 atm."
      ]
    },
    {
      "cell_type": "code",
      "execution_count": 47,
      "metadata": {},
      "outputs": [],
      "source": [
        "T,P, h,D =np.empty(4),np.empty(4),np.empty(4),np.empty(4)\n",
        "Estado = []"
      ]
    },
    {
      "attachments": {},
      "cell_type": "markdown",
      "metadata": {},
      "source": [
        "Estado 0"
      ]
    },
    {
      "cell_type": "code",
      "execution_count": 48,
      "metadata": {},
      "outputs": [],
      "source": [
        "Estado.append('Ambente') \n",
        "T[0] = ref_temp\n",
        "P[0] = ref_press\n",
        "\n",
        "h[0] = cp.PropsSI('H', 'T', T[0], 'P', P[0], fluid)\n",
        "D[0] = cp.PropsSI('D', 'T', T[0], 'P', P[0], fluid)"
      ]
    },
    {
      "attachments": {},
      "cell_type": "markdown",
      "metadata": {},
      "source": [
        "Estado 1 - Líquido Saturado"
      ]
    },
    {
      "cell_type": "code",
      "execution_count": 49,
      "metadata": {
        "colab": {
          "base_uri": "https://localhost:8080/"
        },
        "id": "7cdxQOi9H_7Z",
        "outputId": "eb3d4d68-051a-482c-c2e9-bcf4639c98af"
      },
      "outputs": [],
      "source": [
        "Estado.append('L. Saturado') \n",
        "P[1] = ref_press\n",
        "\n",
        "T[1] = cp.PropsSI('T', 'Q', 0, 'P', P[1], fluid)\n",
        "h[1] = cp.PropsSI('H', 'Q', 0, 'P', P[1], fluid)\n",
        "D[1] = cp.PropsSI('D', 'Q', 0, 'P', P[1], fluid)"
      ]
    },
    {
      "attachments": {},
      "cell_type": "markdown",
      "metadata": {
        "id": "DVLO6IAlIWGt"
      },
      "source": [
        "Estado 2 -  Vapor Saturado"
      ]
    },
    {
      "cell_type": "code",
      "execution_count": 50,
      "metadata": {
        "colab": {
          "base_uri": "https://localhost:8080/",
          "height": 36
        },
        "id": "nMMSH34CIe-q",
        "outputId": "9e312d76-4c9e-4862-ee06-38681d97d033"
      },
      "outputs": [],
      "source": [
        "Estado.append('V. Saturado') \n",
        "P[2] = ref_press\n",
        "\n",
        "T[2] = cp.PropsSI('T', 'Q', 1, 'P', P[2], fluid)\n",
        "h[2] = cp.PropsSI('H', 'Q', 1, 'P', P[2], fluid)\n",
        "D[2] = cp.PropsSI('D', 'Q', 1, 'P', P[2], fluid)"
      ]
    },
    {
      "attachments": {},
      "cell_type": "markdown",
      "metadata": {
        "id": "NVrC1E80kglq"
      },
      "source": [
        "Estado 3 - Vapor Sobrecalentado a 200°C"
      ]
    },
    {
      "cell_type": "code",
      "execution_count": 51,
      "metadata": {},
      "outputs": [],
      "source": [
        "Estado.append('Sobrecalentado') \n",
        "T[3] = 200 + 273.15 # K\n",
        "P[3] = ref_press\n",
        "\n",
        "h[3] = cp.PropsSI('H', 'T', T[3], 'P', P[3], fluid)\n",
        "D[3] = cp.PropsSI('D', 'T', T[3], 'P', P[3], fluid)"
      ]
    },
    {
      "attachments": {},
      "cell_type": "markdown",
      "metadata": {},
      "source": [
        "Crearemos una Tabla de resumen de los estados termodinámicos"
      ]
    },
    {
      "cell_type": "code",
      "execution_count": 52,
      "metadata": {},
      "outputs": [],
      "source": [
        "from beautifultable import BeautifulTable as bt"
      ]
    },
    {
      "cell_type": "code",
      "execution_count": 57,
      "metadata": {},
      "outputs": [
        {
          "name": "stdout",
          "output_type": "stream",
          "text": [
            "Estados termodinámicos water\n",
            "+----------------+-------------+---------+----------+-----------+\n",
            "|                | Temperatura | Presión | Entalpía | Densidad  |\n",
            "|                |     [C]     |  [kPa]  | [kJ/kg]  |  [kg/m3]  |\n",
            "+----------------+-------------+---------+----------+-----------+\n",
            "|    Ambente     |    298.0    | 101.325 | 104.293  |  997.086  |\n",
            "+----------------+-------------+---------+----------+-----------+\n",
            "|  L. Saturado   |   373.124   | 101.325 | 419.058  |  958.367  |\n",
            "+----------------+-------------+---------+----------+-----------+\n",
            "|  V. Saturado   |   373.124   | 101.325 | 2675.529 |   0.598   |\n",
            "+----------------+-------------+---------+----------+-----------+\n",
            "| Sobrecalentado |   473.15    | 101.325 | 2875.389 |   0.466   |\n",
            "+----------------+-------------+---------+----------+-----------+\n"
          ]
        }
      ],
      "source": [
        "print('Estados termodinámicos ' + fluid)\n",
        "table = bt()\n",
        "table = bt(maxwidth=100)\n",
        "table.columns.append(T, header=\"Temperatura\\n[C]\")\n",
        "table.columns.append(P/1000, header=\"Presión\\n[kPa]\")\n",
        "table.columns.append(h/1000, header=\"Entalpía\\n[kJ/kg]\")\n",
        "table.columns.append(D, header=\"Densidad \\n[kg/m3]\")\n",
        "table.rows.header = Estado\n",
        "print(table)"
      ]
    },
    {
      "cell_type": "code",
      "execution_count": 55,
      "metadata": {},
      "outputs": [
        {
          "name": "stderr",
          "output_type": "stream",
          "text": [
            "c:\\Users\\jmcar\\anaconda3\\envs\\Thermodynamics\\lib\\site-packages\\CoolProp\\Plots\\Common.py:608: UserWarning: Please use \"calc_sat_range\" to calculate saturation and isoquality lines. Input ranges are discarded.\n",
            "  warnings.warn(\n",
            "c:\\Users\\jmcar\\anaconda3\\envs\\Thermodynamics\\lib\\site-packages\\CoolProp\\Plots\\Plots.py:217: UserWarning: Detected an incomplete phase envelope, fixing it numerically.\n",
            "  warnings.warn(\"Detected an incomplete phase envelope, fixing it numerically.\")\n"
          ]
        },
        {
          "data": {
            "image/png": "[encoded data removed]",
            "text/plain": [
              "<Figure size 640x480 with 1 Axes>"
            ]
          },
          "metadata": {},
          "output_type": "display_data"
        }
      ],
      "source": [
        "from CoolProp.Plots import PropertyPlot\n",
        "\n",
        "td_plot = PropertyPlot('Water', 'TD', tp_limits='ORC', unit_system='KSI')\n",
        "td_plot.calc_isolines(cp.iQ, num=6)\n",
        "td_plot.title(r' Diagrama $T,D$ para el agua')\n",
        "td_plot.xlabel(r'$\\rho$ [kg/$m^3$]')\n",
        "td_plot.ylabel(r'$T$ [K]')\n",
        "td_plot.grid()\n",
        "td_plot.show()"
      ]
    }
  ],
  "metadata": {
    "colab": {
      "provenance": []
    },
    "kernelspec": {
      "display_name": "Python 3.9.12 ('Thermodynamics')",
      "language": "python",
      "name": "python3"
    },
    "language_info": {
      "codemirror_mode": {
        "name": "ipython",
        "version": 3
      },
      "file_extension": ".py",
      "mimetype": "text/x-python",
      "name": "python",
      "nbconvert_exporter": "python",
      "pygments_lexer": "ipython3",
      "version": "3.9.16"
    },
    "vscode": {
      "interpreter": {
        "hash": "e3e00a7bd6eae02d2ccac1eb55407bbbd95142f269ed3bd1034733c2cfa4f866"
      }
    }
  },
  "nbformat": 4,
  "nbformat_minor": 0
}
